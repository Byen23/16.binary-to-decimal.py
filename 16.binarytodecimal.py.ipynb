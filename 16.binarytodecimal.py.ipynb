{
 "cells": [
  {
   "cell_type": "code",
   "execution_count": 1,
   "metadata": {
    "ExecuteTime": {
     "end_time": "2019-01-18T01:17:57.448707Z",
     "start_time": "2019-01-18T01:17:45.652721Z"
    }
   },
   "outputs": [
    {
     "name": "stdout",
     "output_type": "stream",
     "text": [
      "Enter a string of bits: 1111\n",
      "The integer value is 15\n"
     ]
    }
   ],
   "source": [
    "# -*- coding: utf-8 -*-\n",
    "\"\"\"\n",
    "Created on Thu Jan 17, 2019\n",
    "\n",
    "File: binarytodecimal.py\n",
    "Converts a string of bits to a decimal integer.\n",
    "@author: Byen23\n",
    "\"\"\"\n",
    "\n",
    "# This will be my 16th program to be uploaded on Github\n",
    "\n",
    "bitString = input(\"Enter a string of bits: \")\n",
    "decimal = 0 \n",
    "exponent = len(bitString) - 1\n",
    "for digit in bitString:\n",
    "\tdecimal = decimal + int(digit) * 2 ** exponent\n",
    "\texponent = exponent - 1\n",
    "print(\"The integer value is\", decimal)"
   ]
  }
 ],
 "metadata": {
  "kernelspec": {
   "display_name": "Python 3",
   "language": "python",
   "name": "python3"
  },
  "language_info": {
   "codemirror_mode": {
    "name": "ipython",
    "version": 3
   },
   "file_extension": ".py",
   "mimetype": "text/x-python",
   "name": "python",
   "nbconvert_exporter": "python",
   "pygments_lexer": "ipython3",
   "version": "3.6.8"
  }
 },
 "nbformat": 4,
 "nbformat_minor": 2
}
